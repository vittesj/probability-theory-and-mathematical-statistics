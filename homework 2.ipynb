{
 "cells": [
  {
   "cell_type": "code",
   "execution_count": 8,
   "id": "b709a6f3",
   "metadata": {},
   "outputs": [],
   "source": [
    "from math import factorial, e"
   ]
  },
  {
   "cell_type": "code",
   "execution_count": 10,
   "id": "e346bb25",
   "metadata": {},
   "outputs": [],
   "source": [
    "def Bern(n, k, p):\n",
    "    P = factorial(n) / (factorial(k) * factorial(n-k)) * p ** k * (1 - p) ** (n - k)\n",
    "    return str(round(P * 100, 2)) + '%'"
   ]
  },
  {
   "cell_type": "code",
   "execution_count": 12,
   "id": "cb6782e2",
   "metadata": {},
   "outputs": [],
   "source": [
    "def Puason(n, m, p):\n",
    "    P = (n * p) ** m / factorial(m) * e ** (-1 * n * p)\n",
    "    return str(round(P * 100, 2)) + '%'"
   ]
  },
  {
   "cell_type": "markdown",
   "id": "5ce241e6",
   "metadata": {},
   "source": [
    "## Вероятность того, что стрелок попадет в мишень, выстрелив один раз, равна 0.8. Стрелок выстрелил 100 раз. Найдите вероятность того, что стрелок попадет в цель ровно 85 раз."
   ]
  },
  {
   "cell_type": "code",
   "execution_count": 11,
   "id": "9c3a9c25",
   "metadata": {},
   "outputs": [
    {
     "data": {
      "text/plain": [
       "'4.81%'"
      ]
     },
     "execution_count": 11,
     "metadata": {},
     "output_type": "execute_result"
    }
   ],
   "source": [
    "Bern(100, 85, 0.8)"
   ]
  },
  {
   "cell_type": "markdown",
   "id": "d127f8db",
   "metadata": {},
   "source": [
    "## Вероятность того, что лампочка перегорит в течение первого дня эксплуатации, равна 0.0004. В жилом комплексе после ремонта в один день включили 5000 новых лампочек. Какова вероятность, что ни одна из них не перегорит в первый день? "
   ]
  },
  {
   "cell_type": "code",
   "execution_count": 13,
   "id": "cc0eb90f",
   "metadata": {},
   "outputs": [
    {
     "data": {
      "text/plain": [
       "'13.53%'"
      ]
     },
     "execution_count": 13,
     "metadata": {},
     "output_type": "execute_result"
    }
   ],
   "source": [
    "Puason(5000, 0, 0.0004)"
   ]
  },
  {
   "cell_type": "markdown",
   "id": "4cde6c3b",
   "metadata": {},
   "source": [
    "## Какова вероятность, что перегорят ровно две?¶"
   ]
  },
  {
   "cell_type": "code",
   "execution_count": 14,
   "id": "44cbd924",
   "metadata": {},
   "outputs": [
    {
     "data": {
      "text/plain": [
       "'27.07%'"
      ]
     },
     "execution_count": 14,
     "metadata": {},
     "output_type": "execute_result"
    }
   ],
   "source": [
    "Puason(5000, 2, 0.0004)"
   ]
  },
  {
   "cell_type": "markdown",
   "id": "f16de112",
   "metadata": {},
   "source": [
    "## Монету подбросили 144 раза. Какова вероятность, что орел выпадет ровно 70 раз?"
   ]
  },
  {
   "cell_type": "code",
   "execution_count": 15,
   "id": "204ad0fd",
   "metadata": {},
   "outputs": [
    {
     "data": {
      "text/plain": [
       "'6.28%'"
      ]
     },
     "execution_count": 15,
     "metadata": {},
     "output_type": "execute_result"
    }
   ],
   "source": [
    "Bern(144, 70, 0.5)"
   ]
  },
  {
   "cell_type": "markdown",
   "id": "28544243",
   "metadata": {},
   "source": [
    "## В первом ящике находится 10 мячей, из которых 7 - белые. Во втором ящике - 11 мячей, из которых 9 белых. Из каждого ящика вытаскивают случайным образом по два мяча. Какова вероятность того, что все мячи белые?"
   ]
  },
  {
   "cell_type": "code",
   "execution_count": 17,
   "id": "004c02cd",
   "metadata": {},
   "outputs": [
    {
     "data": {
      "text/plain": [
       "'30.55%'"
      ]
     },
     "execution_count": 17,
     "metadata": {},
     "output_type": "execute_result"
    }
   ],
   "source": [
    "P = (7 / 10) * (6 / 9) * (9 / 11) * (8 / 10)\n",
    "str(round(P * 100, 2)) + '%'"
   ]
  },
  {
   "cell_type": "markdown",
   "id": "8e2cea4b",
   "metadata": {},
   "source": [
    "## Какова вероятность того, что хотя бы один мяч белый?"
   ]
  },
  {
   "cell_type": "code",
   "execution_count": 19,
   "id": "9ed5b76c",
   "metadata": {},
   "outputs": [
    {
     "data": {
      "text/plain": [
       "'91.52%'"
      ]
     },
     "execution_count": 19,
     "metadata": {},
     "output_type": "execute_result"
    }
   ],
   "source": [
    "Q = (3 / 10) * (2 / 9) + (2 / 11) * (1 / 10)\n",
    "P = 1 - Q\n",
    "str(round(P * 100, 2)) + '%'"
   ]
  },
  {
   "cell_type": "code",
   "execution_count": null,
   "id": "e5759a95",
   "metadata": {},
   "outputs": [],
   "source": []
  }
 ],
 "metadata": {
  "kernelspec": {
   "display_name": "Python 3",
   "language": "python",
   "name": "python3"
  },
  "language_info": {
   "codemirror_mode": {
    "name": "ipython",
    "version": 3
   },
   "file_extension": ".py",
   "mimetype": "text/x-python",
   "name": "python",
   "nbconvert_exporter": "python",
   "pygments_lexer": "ipython3",
   "version": "3.8.8"
  }
 },
 "nbformat": 4,
 "nbformat_minor": 5
}
