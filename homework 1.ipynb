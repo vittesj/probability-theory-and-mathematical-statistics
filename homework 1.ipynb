{
 "cells": [
  {
   "cell_type": "markdown",
   "id": "fc35cc87",
   "metadata": {},
   "source": [
    "## Из колоды в 52 карты извлекаются случайным образом 4 карты. a) Найти вероятность того, что все карты – крести."
   ]
  },
  {
   "cell_type": "code",
   "execution_count": 14,
   "id": "5ea04ceb",
   "metadata": {},
   "outputs": [],
   "source": [
    "from math import factorial"
   ]
  },
  {
   "cell_type": "code",
   "execution_count": 16,
   "id": "af4c73a4",
   "metadata": {},
   "outputs": [],
   "source": [
    "def fact(n, k):\n",
    "    return factorial(n) / (factorial(k) * factorial(n - k))"
   ]
  },
  {
   "cell_type": "markdown",
   "id": "d835c3f9",
   "metadata": {},
   "source": [
    "посчитаем все удачные исходы"
   ]
  },
  {
   "cell_type": "code",
   "execution_count": 17,
   "id": "32aa00c7",
   "metadata": {},
   "outputs": [
    {
     "data": {
      "text/plain": [
       "715.0"
      ]
     },
     "execution_count": 17,
     "metadata": {},
     "output_type": "execute_result"
    }
   ],
   "source": [
    "m = fact(13, 4)\n",
    "m"
   ]
  },
  {
   "cell_type": "markdown",
   "id": "93da920f",
   "metadata": {},
   "source": [
    "посчитаем все исходы"
   ]
  },
  {
   "cell_type": "code",
   "execution_count": 18,
   "id": "d6902dc1",
   "metadata": {},
   "outputs": [
    {
     "data": {
      "text/plain": [
       "270725.0"
      ]
     },
     "execution_count": 18,
     "metadata": {},
     "output_type": "execute_result"
    }
   ],
   "source": [
    "n = fact(52, 4)\n",
    "n"
   ]
  },
  {
   "cell_type": "code",
   "execution_count": 28,
   "id": "fbf18cee",
   "metadata": {},
   "outputs": [
    {
     "data": {
      "text/plain": [
       "'0.26%'"
      ]
     },
     "execution_count": 28,
     "metadata": {},
     "output_type": "execute_result"
    }
   ],
   "source": [
    "result1 = m / n\n",
    "str(round(result1 * 100, 2)) + '%'"
   ]
  },
  {
   "cell_type": "markdown",
   "id": "eaee08c9",
   "metadata": {},
   "source": [
    "## б) Найти вероятность, что среди 4-х карт окажется хотя бы один туз."
   ]
  },
  {
   "cell_type": "markdown",
   "id": "ce8e8765",
   "metadata": {},
   "source": [
    "В данном случае нас интересуют все случаи когда есть хотябы 1 туз, т.е. и случаи когда из 4ёх карт 2 туза, 3 туза, или каре тузов"
   ]
  },
  {
   "cell_type": "code",
   "execution_count": 20,
   "id": "17d86452",
   "metadata": {},
   "outputs": [
    {
     "data": {
      "text/plain": [
       "76145.0"
      ]
     },
     "execution_count": 20,
     "metadata": {},
     "output_type": "execute_result"
    }
   ],
   "source": [
    "m2 = fact(4, 1) * fact(48, 3) + fact(4, 2) * fact(48, 2) + fact(4, 3) * fact(48, 1) + fact(4, 4)\n",
    "m2"
   ]
  },
  {
   "cell_type": "code",
   "execution_count": 29,
   "id": "dce553b1",
   "metadata": {},
   "outputs": [
    {
     "data": {
      "text/plain": [
       "'28.13%'"
      ]
     },
     "execution_count": 29,
     "metadata": {},
     "output_type": "execute_result"
    }
   ],
   "source": [
    "result2 = m2 / n\n",
    "str(round(result2 * 100, 2)) + '%'"
   ]
  },
  {
   "cell_type": "markdown",
   "id": "028a5dd1",
   "metadata": {},
   "source": [
    "## На входной двери подъезда установлен кодовый замок, содержащий десять кнопок с цифрами от 0 до 9. Код содержит три цифры, которые нужно нажать одновременно. Какова вероятность того, что человек, не знающий код, откроет дверь с первой попытки?"
   ]
  },
  {
   "cell_type": "code",
   "execution_count": 31,
   "id": "31ea0d53",
   "metadata": {},
   "outputs": [
    {
     "data": {
      "text/plain": [
       "'0.83%'"
      ]
     },
     "execution_count": 31,
     "metadata": {},
     "output_type": "execute_result"
    }
   ],
   "source": [
    "P = 1 / fact(10, 3)\n",
    "str(round(P * 100, 2)) + '%'"
   ]
  },
  {
   "cell_type": "markdown",
   "id": "b3f473de",
   "metadata": {},
   "source": [
    "## В ящике имеется 15 деталей, из которых 9 окрашены. Рабочий случайным образом извлекает 3 детали. Какова вероятность того, что все извлеченные детали окрашены?"
   ]
  },
  {
   "cell_type": "code",
   "execution_count": 32,
   "id": "90720671",
   "metadata": {},
   "outputs": [
    {
     "data": {
      "text/plain": [
       "'18.46%'"
      ]
     },
     "execution_count": 32,
     "metadata": {},
     "output_type": "execute_result"
    }
   ],
   "source": [
    "m = fact(9, 3)\n",
    "n = fact(15, 3)\n",
    "P = m / n\n",
    "str(round(P * 100, 2)) + '%'"
   ]
  },
  {
   "cell_type": "markdown",
   "id": "751c1035",
   "metadata": {},
   "source": [
    "## В лотерее 100 билетов. Из них 2 выигрышных. Какова вероятность того, что 2 приобретенных билета окажутся выигрышными?"
   ]
  },
  {
   "cell_type": "code",
   "execution_count": 33,
   "id": "f75e00f3",
   "metadata": {},
   "outputs": [
    {
     "data": {
      "text/plain": [
       "'0.02%'"
      ]
     },
     "execution_count": 33,
     "metadata": {},
     "output_type": "execute_result"
    }
   ],
   "source": [
    "P = 1 / fact(100, 2)\n",
    "str(round(P * 100, 2)) + '%'"
   ]
  },
  {
   "cell_type": "code",
   "execution_count": null,
   "id": "529cfa8b",
   "metadata": {},
   "outputs": [],
   "source": []
  }
 ],
 "metadata": {
  "kernelspec": {
   "display_name": "Python 3",
   "language": "python",
   "name": "python3"
  },
  "language_info": {
   "codemirror_mode": {
    "name": "ipython",
    "version": 3
   },
   "file_extension": ".py",
   "mimetype": "text/x-python",
   "name": "python",
   "nbconvert_exporter": "python",
   "pygments_lexer": "ipython3",
   "version": "3.8.8"
  }
 },
 "nbformat": 4,
 "nbformat_minor": 5
}
