{
 "cells": [
  {
   "cell_type": "code",
   "execution_count": 23,
   "id": "f9b1900c",
   "metadata": {},
   "outputs": [],
   "source": [
    "import numpy as np\n",
    "from math import factorial"
   ]
  },
  {
   "cell_type": "markdown",
   "id": "01daa4d9",
   "metadata": {},
   "source": [
    "## Даны значения зарплат из выборки выпускников: 100, 80, 75, 77, 89, 33, 45, 25, 65, 17, 30, 24, 57, 55, 70, 75, 65, 84, 90, 150. Посчитать (желательно без использования статистических методов наподобие std, var, mean) среднее арифметическое, среднее квадратичное отклонение, смещенную и несмещенную оценки дисперсий для данной выборки."
   ]
  },
  {
   "cell_type": "code",
   "execution_count": 24,
   "id": "a2ee3cc5",
   "metadata": {},
   "outputs": [
    {
     "data": {
      "text/plain": [
       "array([100,  80,  75,  77,  89,  33,  45,  25,  65,  17,  30,  24,  57,\n",
       "        55,  70,  75,  65,  84,  90, 150])"
      ]
     },
     "execution_count": 24,
     "metadata": {},
     "output_type": "execute_result"
    }
   ],
   "source": [
    "n = np.array([100, 80, 75, 77, 89, 33, 45, 25, 65, 17, 30, 24, 57, 55, 70, 75, 65, 84, 90, 150])\n",
    "n"
   ]
  },
  {
   "cell_type": "code",
   "execution_count": 25,
   "id": "e4b25a91",
   "metadata": {},
   "outputs": [
    {
     "data": {
      "text/plain": [
       "65.3"
      ]
     },
     "execution_count": 25,
     "metadata": {},
     "output_type": "execute_result"
    }
   ],
   "source": [
    "arithmetic_mean = sum(n) / len(n) # среднее арифметическое\n",
    "arithmetic_mean"
   ]
  },
  {
   "cell_type": "code",
   "execution_count": 26,
   "id": "fa1c05d1",
   "metadata": {},
   "outputs": [
    {
     "data": {
      "text/plain": [
       "30.823854398825596"
      ]
     },
     "execution_count": 26,
     "metadata": {},
     "output_type": "execute_result"
    }
   ],
   "source": [
    "s = 0\n",
    "for i in n:\n",
    "    s += (i - arithmetic_mean) ** 2\n",
    "mean_square_deviation = (s / len(n)) ** 0.5\n",
    "mean_square_deviation # среднее квадратичное отклонение"
   ]
  },
  {
   "cell_type": "code",
   "execution_count": 27,
   "id": "37942d44",
   "metadata": {},
   "outputs": [
    {
     "data": {
      "text/plain": [
       "950.11"
      ]
     },
     "execution_count": 27,
     "metadata": {},
     "output_type": "execute_result"
    }
   ],
   "source": [
    "biased_variance_estimation = mean_square_deviation ** 2\n",
    "biased_variance_estimation # смещенная  оценка дисперсии"
   ]
  },
  {
   "cell_type": "code",
   "execution_count": 28,
   "id": "357f74a1",
   "metadata": {},
   "outputs": [
    {
     "data": {
      "text/plain": [
       "1000.1157894736842"
      ]
     },
     "execution_count": 28,
     "metadata": {},
     "output_type": "execute_result"
    }
   ],
   "source": [
    "unbiased_variance_estimation = s / (len(n) - 1)\n",
    "unbiased_variance_estimation # несмещенная оценка дисперсии"
   ]
  },
  {
   "cell_type": "markdown",
   "id": "633c7dcd",
   "metadata": {},
   "source": [
    "## В первом ящике находится 8 мячей, из которых 5 - белые. Во втором ящике - 12 мячей, из которых 5 белых. Из первого ящика вытаскивают случайным образом два мяча, из второго - 4. Какова вероятность того, что 3 мяча белые?"
   ]
  },
  {
   "cell_type": "code",
   "execution_count": 29,
   "id": "7cede718",
   "metadata": {},
   "outputs": [],
   "source": [
    "def fact(n, k):\n",
    "    return factorial(n) / (factorial(k) * factorial(n - k))"
   ]
  },
  {
   "cell_type": "markdown",
   "id": "6109705e",
   "metadata": {},
   "source": [
    "### p_1 - из первого ящика вытащили 0 белых из второго 3, \n",
    "### p_2 - из первого ящика вытащили 1 белых из второго 2, \n",
    "### p_3 - из первого ящика вытащили 2 белых из второго 1"
   ]
  },
  {
   "cell_type": "code",
   "execution_count": 30,
   "id": "38d90bc5",
   "metadata": {},
   "outputs": [
    {
     "data": {
      "text/plain": [
       "0.01515151515151515"
      ]
     },
     "execution_count": 30,
     "metadata": {},
     "output_type": "execute_result"
    }
   ],
   "source": [
    "p_1 = (fact(3,2) / fact(8,2)) * (fact(5,3) * fact(7,1) / fact(12,4))\n",
    "p_1"
   ]
  },
  {
   "cell_type": "code",
   "execution_count": 32,
   "id": "71249a07",
   "metadata": {},
   "outputs": [
    {
     "data": {
      "text/plain": [
       "0.22727272727272727"
      ]
     },
     "execution_count": 32,
     "metadata": {},
     "output_type": "execute_result"
    }
   ],
   "source": [
    "p_2 = (fact(5,1) * fact(3,1) / fact(8,2)) * (fact(5,2) * fact(7,2) / fact(12,4))\n",
    "p_2"
   ]
  },
  {
   "cell_type": "code",
   "execution_count": 33,
   "id": "ada77442",
   "metadata": {},
   "outputs": [
    {
     "data": {
      "text/plain": [
       "0.12626262626262627"
      ]
     },
     "execution_count": 33,
     "metadata": {},
     "output_type": "execute_result"
    }
   ],
   "source": [
    "p_3 = (fact(5,2) / fact(8,2)) * (fact(5,1) * fact(7,3) / fact(12,4))\n",
    "p_3"
   ]
  },
  {
   "cell_type": "code",
   "execution_count": 34,
   "id": "90fe16c3",
   "metadata": {},
   "outputs": [
    {
     "data": {
      "text/plain": [
       "'36.87%'"
      ]
     },
     "execution_count": 34,
     "metadata": {},
     "output_type": "execute_result"
    }
   ],
   "source": [
    "P = p_1 + p_2 + p_3\n",
    "str(round(P * 100, 2)) + '%'"
   ]
  },
  {
   "cell_type": "markdown",
   "id": "1bae3ca4",
   "metadata": {},
   "source": [
    "## На соревновании по биатлону один из трех спортсменов стреляет и попадает в мишень. Вероятность попадания для первого спортсмена равна 0.9, для второго — 0.8, для третьего — 0.6. Найти вероятность того, что выстрел произведен: a). первым спортсменом "
   ]
  },
  {
   "cell_type": "code",
   "execution_count": 35,
   "id": "6648759c",
   "metadata": {},
   "outputs": [
    {
     "data": {
      "text/plain": [
       "0.072"
      ]
     },
     "execution_count": 35,
     "metadata": {},
     "output_type": "execute_result"
    }
   ],
   "source": [
    "p_1 = 0.9 * (1 - 0.8) * (1 - 0.6) # Попал перовый стрелок\n",
    "p_1"
   ]
  },
  {
   "cell_type": "code",
   "execution_count": 36,
   "id": "dacd60a2",
   "metadata": {},
   "outputs": [
    {
     "data": {
      "text/plain": [
       "0.031999999999999994"
      ]
     },
     "execution_count": 36,
     "metadata": {},
     "output_type": "execute_result"
    }
   ],
   "source": [
    "p_2 = (1 - 0.9) * 0.8 * (1 - 0.6) # Попал второй стрелок\n",
    "p_2"
   ]
  },
  {
   "cell_type": "code",
   "execution_count": 37,
   "id": "7a79287d",
   "metadata": {},
   "outputs": [
    {
     "data": {
      "text/plain": [
       "0.011999999999999993"
      ]
     },
     "execution_count": 37,
     "metadata": {},
     "output_type": "execute_result"
    }
   ],
   "source": [
    "p_3 = (1 - 0.9) * (1 - 0.8) * 0.6 # Попал третий стрелок\n",
    "p_3"
   ]
  },
  {
   "cell_type": "code",
   "execution_count": 39,
   "id": "51f462f9",
   "metadata": {},
   "outputs": [
    {
     "data": {
      "text/plain": [
       "'62.07%'"
      ]
     },
     "execution_count": 39,
     "metadata": {},
     "output_type": "execute_result"
    }
   ],
   "source": [
    "P_1 = p_1 * 1 / (p_1 * 1 + p_2 * 1 + p_3 * 1)\n",
    "str(round(P_1 * 100, 2)) + '%'"
   ]
  },
  {
   "cell_type": "markdown",
   "id": "a54ec486",
   "metadata": {},
   "source": [
    "## б). вторым спортсменом"
   ]
  },
  {
   "cell_type": "code",
   "execution_count": 40,
   "id": "a36989b1",
   "metadata": {},
   "outputs": [
    {
     "data": {
      "text/plain": [
       "'27.59%'"
      ]
     },
     "execution_count": 40,
     "metadata": {},
     "output_type": "execute_result"
    }
   ],
   "source": [
    "P_2 = p_2 * 1 / (p_1 * 1 + p_2 * 1 + p_3 * 1)\n",
    "str(round(P_2 * 100, 2)) + '%'"
   ]
  },
  {
   "cell_type": "markdown",
   "id": "b461426a",
   "metadata": {},
   "source": [
    "## в). третьим спортсменом."
   ]
  },
  {
   "cell_type": "code",
   "execution_count": 41,
   "id": "31a9d7d3",
   "metadata": {},
   "outputs": [
    {
     "data": {
      "text/plain": [
       "'10.34%'"
      ]
     },
     "execution_count": 41,
     "metadata": {},
     "output_type": "execute_result"
    }
   ],
   "source": [
    "P_3 = p_3 * 1 / (p_1 * 1 + p_2 * 1 + p_3 * 1)\n",
    "str(round(P_3 * 100, 2)) + '%'"
   ]
  },
  {
   "cell_type": "markdown",
   "id": "4ed1ba52",
   "metadata": {},
   "source": [
    "Я считаю это решение верным так как логика рассуждения верна так как вероятность события у нас по условия 100% так как событие уже произошло и следовательна равна 1, но есть и другая логика когда полная группа событий у нас исходит из того что вероятность события попадания равна 1/3*0.9+1/3*0.8+1/3*0.6, что примерно равно 0.7667. Тогда вероятности попадания будут иными и расчитываться по формуле 1/3*0.9/0.7667 и так далее для каждого спортсмена что даст нам совершенно другие проценты вероятности. Какая из логик верна?"
   ]
  },
  {
   "cell_type": "markdown",
   "id": "8f2db3a1",
   "metadata": {},
   "source": [
    "## В университет на факультеты A и B поступило равное количество студентов, а на факультет C студентов поступило столько же, сколько на A и B вместе. Вероятность того, что студент факультета A сдаст первую сессию, равна 0.8. Для студента факультета B эта вероятность равна 0.7, а для студента факультета C - 0.9. Студент сдал первую сессию. Какова вероятность, что он учится: a). на факультете A"
   ]
  },
  {
   "cell_type": "markdown",
   "id": "9154c50b",
   "metadata": {},
   "source": [
    "Эту задачу я решу по той логикее номер 2, что изложил в конце решщения предыдущей задачи."
   ]
  },
  {
   "cell_type": "code",
   "execution_count": 53,
   "id": "eaadf8a8",
   "metadata": {},
   "outputs": [
    {
     "data": {
      "text/plain": [
       "0.825"
      ]
     },
     "execution_count": 53,
     "metadata": {},
     "output_type": "execute_result"
    }
   ],
   "source": [
    "full_probability = 0.25 * 0.8 + 0.25 * 0.7 + 0.5 * 0.9\n",
    "full_probability"
   ]
  },
  {
   "cell_type": "code",
   "execution_count": 54,
   "id": "ead88ce4",
   "metadata": {},
   "outputs": [
    {
     "data": {
      "text/plain": [
       "'24.24%'"
      ]
     },
     "execution_count": 54,
     "metadata": {},
     "output_type": "execute_result"
    }
   ],
   "source": [
    "P_A = 0.25 * 0.8 / full_probability\n",
    "str(round(P_A * 100, 2)) + '%'"
   ]
  },
  {
   "cell_type": "code",
   "execution_count": 56,
   "id": "b60dae97",
   "metadata": {},
   "outputs": [
    {
     "data": {
      "text/plain": [
       "'21.21%'"
      ]
     },
     "execution_count": 56,
     "metadata": {},
     "output_type": "execute_result"
    }
   ],
   "source": [
    "P_B = 0.25 * 0.7 / full_probability\n",
    "str(round(P_B * 100, 2)) + '%'"
   ]
  },
  {
   "cell_type": "code",
   "execution_count": 57,
   "id": "733123c8",
   "metadata": {},
   "outputs": [
    {
     "data": {
      "text/plain": [
       "'54.55%'"
      ]
     },
     "execution_count": 57,
     "metadata": {},
     "output_type": "execute_result"
    }
   ],
   "source": [
    "P_C = 0.5 * 0.9 / full_probability\n",
    "str(round(P_C * 100, 2)) + '%'"
   ]
  },
  {
   "cell_type": "markdown",
   "id": "4bce21e2",
   "metadata": {},
   "source": [
    "## Устройство состоит из трех деталей. Для первой детали вероятность выйти из строя в первый месяц равна 0.1, для второй - 0.2, для третьей - 0.25. Какова вероятность того, что в первый месяц выйдут из строя: а). все детали б). только две детали в). хотя бы одна деталь г). от одной до двух деталей?"
   ]
  },
  {
   "cell_type": "code",
   "execution_count": 59,
   "id": "343ef49d",
   "metadata": {},
   "outputs": [
    {
     "data": {
      "text/plain": [
       "'0.5%'"
      ]
     },
     "execution_count": 59,
     "metadata": {},
     "output_type": "execute_result"
    }
   ],
   "source": [
    "p_a = 0.1 * 0.2 * 0.25\n",
    "str(round(p_a * 100, 2)) + '%'"
   ]
  },
  {
   "cell_type": "code",
   "execution_count": 64,
   "id": "c7e9a61f",
   "metadata": {},
   "outputs": [
    {
     "data": {
      "text/plain": [
       "'8.0%'"
      ]
     },
     "execution_count": 64,
     "metadata": {},
     "output_type": "execute_result"
    }
   ],
   "source": [
    "p_b = 0.1 * 0.2 * (1 - 0.25) + 0.1 * (1 - 0.2) * 0.25 + (1 - 0.1) * 0.2 * 0.25\n",
    "str(round(p_b * 100, 2)) + '%'"
   ]
  },
  {
   "cell_type": "code",
   "execution_count": 65,
   "id": "149141a6",
   "metadata": {},
   "outputs": [
    {
     "data": {
      "text/plain": [
       "'46.0%'"
      ]
     },
     "execution_count": 65,
     "metadata": {},
     "output_type": "execute_result"
    }
   ],
   "source": [
    "p_c = 1 - 0.9 * 0.8 * 0.75\n",
    "str(round(p_c * 100, 2)) + '%'"
   ]
  },
  {
   "cell_type": "code",
   "execution_count": 66,
   "id": "429bb3cb",
   "metadata": {},
   "outputs": [
    {
     "data": {
      "text/plain": [
       "'9.5%'"
      ]
     },
     "execution_count": 66,
     "metadata": {},
     "output_type": "execute_result"
    }
   ],
   "source": [
    "p_d = p_b + (0.1 * (1 - 0.2) * (1 - 0.25) + (1 - 0.1) * (0.2 - 1) * 0.25 + (1 - 0.1) * 0.2 * (1 - 0.25))\n",
    "str(round(p_d * 100, 2)) + '%'"
   ]
  },
  {
   "cell_type": "code",
   "execution_count": 68,
   "id": "9a5af2d0",
   "metadata": {},
   "outputs": [
    {
     "data": {
      "text/plain": [
       "'1.5%'"
      ]
     },
     "execution_count": 68,
     "metadata": {},
     "output_type": "execute_result"
    }
   ],
   "source": [
    "a = 0.1 * (1 - 0.2) * (1 - 0.25) + (1 - 0.1) * (0.2 - 1) * 0.25 + (1 - 0.1) * 0.2 * (1 - 0.25)\n",
    "str(round(a * 100, 2)) + '%'"
   ]
  },
  {
   "cell_type": "code",
   "execution_count": null,
   "id": "5a41cbe0",
   "metadata": {},
   "outputs": [],
   "source": []
  }
 ],
 "metadata": {
  "kernelspec": {
   "display_name": "Python 3",
   "language": "python",
   "name": "python3"
  },
  "language_info": {
   "codemirror_mode": {
    "name": "ipython",
    "version": 3
   },
   "file_extension": ".py",
   "mimetype": "text/x-python",
   "name": "python",
   "nbconvert_exporter": "python",
   "pygments_lexer": "ipython3",
   "version": "3.8.8"
  }
 },
 "nbformat": 4,
 "nbformat_minor": 5
}
