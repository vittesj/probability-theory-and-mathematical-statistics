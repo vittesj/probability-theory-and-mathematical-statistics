{
 "cells": [
  {
   "cell_type": "markdown",
   "id": "2e6022b4",
   "metadata": {},
   "source": [
    "### 1) Провести дисперсионный анализ для определения того, есть ли различия среднего роста среди взрослых футболистов, хоккеистов и штангистов.\n",
    "### Даны значения роста в трех группах случайно выбранных спортсменов:\n",
    "- Футболисты: 173, 175, 180, 178, 177, 185, 183, 182.\n",
    "- Хоккеисты: 177, 179, 180, 188, 177, 172, 171, 184, 180.\n",
    "- Штангисты: 172, 173, 169, 177, 166, 180, 178, 177, 172, 166, 170."
   ]
  },
  {
   "cell_type": "code",
   "execution_count": 9,
   "id": "0d7736e8",
   "metadata": {},
   "outputs": [],
   "source": [
    "import numpy as np\n",
    "from scipy import stats"
   ]
  },
  {
   "cell_type": "code",
   "execution_count": 10,
   "id": "b660b350",
   "metadata": {},
   "outputs": [],
   "source": [
    "football = np.array([173, 175, 180, 178, 177, 185, 183, 182])\n",
    "hockey = np.array([177, 179, 180, 188, 177, 172, 171, 184, 180])\n",
    "Weightlifters = np.array([172, 173, 169, 177, 166, 180, 178, 177, 172, 166, 170])"
   ]
  },
  {
   "cell_type": "code",
   "execution_count": 11,
   "id": "3ac4a337",
   "metadata": {},
   "outputs": [
    {
     "data": {
      "text/plain": [
       "ShapiroResult(statistic=0.9775081276893616, pvalue=0.9495397210121155)"
      ]
     },
     "execution_count": 11,
     "metadata": {},
     "output_type": "execute_result"
    }
   ],
   "source": [
    "stats.shapiro(football)"
   ]
  },
  {
   "cell_type": "code",
   "execution_count": 12,
   "id": "bd5565f2",
   "metadata": {},
   "outputs": [
    {
     "data": {
      "text/plain": [
       "ShapiroResult(statistic=0.9579195976257324, pvalue=0.7763133645057678)"
      ]
     },
     "execution_count": 12,
     "metadata": {},
     "output_type": "execute_result"
    }
   ],
   "source": [
    "stats.shapiro(hockey)"
   ]
  },
  {
   "cell_type": "code",
   "execution_count": 13,
   "id": "fbce4777",
   "metadata": {},
   "outputs": [
    {
     "data": {
      "text/plain": [
       "ShapiroResult(statistic=0.93868088722229, pvalue=0.5051169991493225)"
      ]
     },
     "execution_count": 13,
     "metadata": {},
     "output_type": "execute_result"
    }
   ],
   "source": [
    "stats.shapiro(Weightlifters)"
   ]
  },
  {
   "cell_type": "code",
   "execution_count": 14,
   "id": "7e8727ad",
   "metadata": {},
   "outputs": [
    {
     "data": {
      "text/plain": [
       "BartlettResult(statistic=0.4640521043406442, pvalue=0.7929254656083131)"
      ]
     },
     "execution_count": 14,
     "metadata": {},
     "output_type": "execute_result"
    }
   ],
   "source": [
    "stats.bartlett(football, hockey, Weightlifters)"
   ]
  },
  {
   "cell_type": "code",
   "execution_count": 15,
   "id": "79fbc86d",
   "metadata": {},
   "outputs": [
    {
     "data": {
      "text/plain": [
       "F_onewayResult(statistic=5.500053450812596, pvalue=0.010482206918698694)"
      ]
     },
     "execution_count": 15,
     "metadata": {},
     "output_type": "execute_result"
    }
   ],
   "source": [
    "stats.f_oneway(football, hockey, Weightlifters)"
   ]
  },
  {
   "cell_type": "markdown",
   "id": "239cea74",
   "metadata": {},
   "source": [
    "Так как pvalue=0.01 < alhpa=0.05 делаем вывод что статистические различия в росте между разными группами спортсменов значимы."
   ]
  },
  {
   "cell_type": "code",
   "execution_count": null,
   "id": "84f7822e",
   "metadata": {},
   "outputs": [],
   "source": []
  }
 ],
 "metadata": {
  "kernelspec": {
   "display_name": "Python 3",
   "language": "python",
   "name": "python3"
  },
  "language_info": {
   "codemirror_mode": {
    "name": "ipython",
    "version": 3
   },
   "file_extension": ".py",
   "mimetype": "text/x-python",
   "name": "python",
   "nbconvert_exporter": "python",
   "pygments_lexer": "ipython3",
   "version": "3.8.8"
  }
 },
 "nbformat": 4,
 "nbformat_minor": 5
}
