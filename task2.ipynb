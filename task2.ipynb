{
 "cells": [
  {
   "cell_type": "markdown",
   "id": "b3b485b4",
   "metadata": {},
   "source": [
    "Задачи 1 и 2\n",
    "Контрольная работа состоит из пяти вопросов. На каждый вопрос приведено четыре варианта ответа, один из которых правильный. Случайная величина X задаёт число правильных ответов при простом угадывании. Найдите математическое ожидание данной случайной величины. Найдите дисперсию случайной величины X.\n",
    "\n",
    "Подсказка: постройте закон распределения случайной величины X."
   ]
  },
  {
   "cell_type": "code",
   "execution_count": 44,
   "id": "03d94c35",
   "metadata": {},
   "outputs": [],
   "source": [
    "import numpy as np"
   ]
  },
  {
   "cell_type": "code",
   "execution_count": 45,
   "id": "aac884c7",
   "metadata": {},
   "outputs": [],
   "source": [
    "a = 5 # колличество вопросов\n",
    "b = 4 # колличество вариантов ответа в вопросе"
   ]
  },
  {
   "cell_type": "code",
   "execution_count": 46,
   "id": "6e1758f7",
   "metadata": {},
   "outputs": [
    {
     "name": "stdout",
     "output_type": "stream",
     "text": [
      "[0 1 2 3 4 5]\n"
     ]
    }
   ],
   "source": [
    "x_values = np.arange(0, 6)\n",
    "print(x_values) # варианты колличества правильных ответов"
   ]
  },
  {
   "cell_type": "code",
   "execution_count": 47,
   "id": "943e0e5a",
   "metadata": {},
   "outputs": [
    {
     "data": {
      "text/plain": [
       "array([0.23730469, 0.07910156, 0.02636719, 0.00878906, 0.00292969,\n",
       "       0.00097656])"
      ]
     },
     "execution_count": 47,
     "metadata": {},
     "output_type": "execute_result"
    }
   ],
   "source": [
    "x_probabilities = (1 / b) ** x_values * (3 / b) ** (a - x_values)\n",
    "x_probabilities[:10] # закон распределения случайной величины X."
   ]
  },
  {
   "cell_type": "code",
   "execution_count": 48,
   "id": "eecec98c",
   "metadata": {},
   "outputs": [
    {
     "data": {
      "text/plain": [
       "0.1748046875"
      ]
     },
     "execution_count": 48,
     "metadata": {},
     "output_type": "execute_result"
    }
   ],
   "source": [
    "m = (x_values * x_probabilities).sum()\n",
    "m # математическое ожидание"
   ]
  },
  {
   "cell_type": "code",
   "execution_count": 49,
   "id": "47cab1c4",
   "metadata": {},
   "outputs": [
    {
     "name": "stdout",
     "output_type": "stream",
     "text": [
      "[-0.17480469  0.82519531  1.82519531  2.82519531  3.82519531  4.82519531]\n"
     ]
    }
   ],
   "source": [
    "y_values = x_values - m\n",
    "print(y_values)"
   ]
  },
  {
   "cell_type": "code",
   "execution_count": 50,
   "id": "3ab5f592",
   "metadata": {},
   "outputs": [
    {
     "name": "stdout",
     "output_type": "stream",
     "text": [
      "[ 0.03055668  0.6809473   3.33133793  7.98172855 14.63211918 23.2825098 ]\n"
     ]
    }
   ],
   "source": [
    "z_values = y_values ** 2\n",
    "print(z_values)"
   ]
  },
  {
   "cell_type": "code",
   "execution_count": 51,
   "id": "8c0efd0e",
   "metadata": {},
   "outputs": [
    {
     "name": "stdout",
     "output_type": "stream",
     "text": [
      "0.28470952436327934\n"
     ]
    }
   ],
   "source": [
    "d = (z_values * x_probabilities).sum()\n",
    "print(d) # дисперсию случайной величины X"
   ]
  },
  {
   "cell_type": "markdown",
   "id": "628db987",
   "metadata": {},
   "source": [
    "Пользователь получает в среднем 10 писем со спамом на свой почтовый ящик за сутки. Найти число N, такое, что с вероятностью 0.95 пользователь получит не более N писем со спамом за текущий день."
   ]
  },
  {
   "cell_type": "code",
   "execution_count": 85,
   "id": "568d0f47",
   "metadata": {},
   "outputs": [
    {
     "name": "stdout",
     "output_type": "stream",
     "text": [
      "12\n"
     ]
    }
   ],
   "source": [
    "def poisson_proba(k: int, lambda_: float) -> float:\n",
    "    \"\"\"Формула Пуассона.\n",
    "    \"\"\"\n",
    "    \n",
    "    return (lambda_ ** k) * (np.exp(-lambda_)) / np.math.factorial(k)\n",
    "w = 0.95 # интересующая нас вероятность\n",
    "lambda_ = 10 # среднее колличество писем со спамом в сутки\n",
    "while sum(poisson_proba(k=i, lambda_=lambda_) for i in range(16)) <= w:\n",
    "    k+=1\n",
    "print (k)"
   ]
  },
  {
   "cell_type": "markdown",
   "id": "d837432f",
   "metadata": {},
   "source": [
    "Производятся выстрелы по мишени. Вероятность попадания в мишень при одном выстреле равна 0.01. Сколько выстрелов нужно сделать чтобы быть уверенным с вероятностью 0.9, что хотя бы 6 раз будет совершено попадание?\n",
    "\n",
    "Подсказка: 1) \"Вероятность попасть k раз при n выстрелах\" - на какое распределение это похоже? 2) А если нам нужна вероятность P(X >= k), а не P(X = k)? 3) Здесь предстоит немножко покодить."
   ]
  },
  {
   "cell_type": "code",
   "execution_count": null,
   "id": "fb8969be",
   "metadata": {},
   "outputs": [],
   "source": []
  }
 ],
 "metadata": {
  "kernelspec": {
   "display_name": "Python 3",
   "language": "python",
   "name": "python3"
  },
  "language_info": {
   "codemirror_mode": {
    "name": "ipython",
    "version": 3
   },
   "file_extension": ".py",
   "mimetype": "text/x-python",
   "name": "python",
   "nbconvert_exporter": "python",
   "pygments_lexer": "ipython3",
   "version": "3.8.8"
  }
 },
 "nbformat": 4,
 "nbformat_minor": 5
}
