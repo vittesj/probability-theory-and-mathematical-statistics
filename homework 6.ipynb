{
 "cells": [
  {
   "cell_type": "code",
   "execution_count": 2,
   "id": "6b4e0f68",
   "metadata": {},
   "outputs": [],
   "source": [
    "import numpy as np\n",
    "import scipy.stats as stats"
   ]
  },
  {
   "cell_type": "markdown",
   "id": "d377832e",
   "metadata": {},
   "source": [
    "## 1) Известно, что генеральная совокупность распределена нормально со средним квадратическим отклонением, равным 16. Найти доверительный интервал для оценки математического ожидания a с надежностью 0.95, если выборочная средняя M = 80, а объем выборки n = 256."
   ]
  },
  {
   "cell_type": "code",
   "execution_count": 3,
   "id": "6c5c7d0c",
   "metadata": {},
   "outputs": [
    {
     "data": {
      "text/plain": [
       "-1.9599639845400545"
      ]
     },
     "execution_count": 3,
     "metadata": {},
     "output_type": "execute_result"
    }
   ],
   "source": [
    "sigma = 16\n",
    "alpha = 0.05\n",
    "m = 80\n",
    "n = 256\n",
    "z = stats.norm.ppf(alpha / 2)\n",
    "z"
   ]
  },
  {
   "cell_type": "code",
   "execution_count": 4,
   "id": "22fa6393",
   "metadata": {},
   "outputs": [
    {
     "data": {
      "text/plain": [
       "(81.95996398454005, 78.04003601545995)"
      ]
     },
     "execution_count": 4,
     "metadata": {},
     "output_type": "execute_result"
    }
   ],
   "source": [
    "(m - z * sigma / np.sqrt(n), m + z * sigma / np.sqrt(n))"
   ]
  },
  {
   "cell_type": "markdown",
   "id": "5ec080fc",
   "metadata": {},
   "source": [
    "## 2) В результате 10 независимых измерений некоторой величины X, выполненных с одинаковой точностью, получены опытные данные:\n",
    "## 6.9, 6.1, 6.2, 6.8, 7.5, 6.3, 6.4, 6.9, 6.7, 6.1\n",
    "## Предполагая, что результаты измерений подчинены нормальному закону распределения вероятностей, оценить истинное значение величины X при помощи доверительного интервала, покрывающего это значение с доверительной вероятностью 0,95."
   ]
  },
  {
   "cell_type": "code",
   "execution_count": 19,
   "id": "6058b17e",
   "metadata": {},
   "outputs": [],
   "source": [
    "selection = np.array([6.9, 6.1, 6.2, 6.8, 7.5, 6.3, 6.4, 6.9, 6.7, 6.1])\n",
    "selection_mean = np.mean(selection)\n",
    "selection_std = np.std(selection, ddof=1)\n",
    "alpha = 0.05"
   ]
  },
  {
   "cell_type": "code",
   "execution_count": 20,
   "id": "b696fb81",
   "metadata": {},
   "outputs": [
    {
     "data": {
      "text/plain": [
       "6.590000000000001"
      ]
     },
     "execution_count": 20,
     "metadata": {},
     "output_type": "execute_result"
    }
   ],
   "source": [
    "t = stats.t.ppf(0.975, len(selection_1) + len(selection) - 2)\n",
    "t"
   ]
  },
  {
   "cell_type": "markdown",
   "id": "d91c04fc",
   "metadata": {},
   "source": [
    "## 3) Рост дочерей 175, 167, 154, 174, 178, 148, 160, 167, 169, 170\n",
    "## Рост матерей 178, 165, 165, 173, 168, 155, 160, 164, 178, 175\n",
    "## Используя эти данные построить 95% доверительный интервал для разности среднего роста родителей и детей."
   ]
  },
  {
   "cell_type": "code",
   "execution_count": 6,
   "id": "8bab8022",
   "metadata": {},
   "outputs": [],
   "source": [
    "selection_1 = np.array([175, 167, 154, 174, 178, 148, 160, 167, 169, 170])\n",
    "selection_2 = np.array([178, 165, 165, 173, 168, 155, 160, 164, 178, 175])"
   ]
  },
  {
   "cell_type": "code",
   "execution_count": 7,
   "id": "36e5e6a4",
   "metadata": {},
   "outputs": [
    {
     "data": {
      "text/plain": [
       "166.2"
      ]
     },
     "execution_count": 7,
     "metadata": {},
     "output_type": "execute_result"
    }
   ],
   "source": [
    "m_mean_1 = np.mean(selection_1)\n",
    "m_mean_1"
   ]
  },
  {
   "cell_type": "code",
   "execution_count": 8,
   "id": "2f70a300",
   "metadata": {},
   "outputs": [
    {
     "data": {
      "text/plain": [
       "168.1"
      ]
     },
     "execution_count": 8,
     "metadata": {},
     "output_type": "execute_result"
    }
   ],
   "source": [
    "m_mean_2 = np.mean(selection_2)\n",
    "m_mean_2"
   ]
  },
  {
   "cell_type": "code",
   "execution_count": 9,
   "id": "a76a4a69",
   "metadata": {},
   "outputs": [
    {
     "data": {
      "text/plain": [
       "-1.9000000000000057"
      ]
     },
     "execution_count": 9,
     "metadata": {},
     "output_type": "execute_result"
    }
   ],
   "source": [
    "delta = m_mean_1 - m_mean_2\n",
    "delta"
   ]
  },
  {
   "cell_type": "code",
   "execution_count": 10,
   "id": "fda5fd9c",
   "metadata": {},
   "outputs": [
    {
     "data": {
      "text/plain": [
       "91.06666666666666"
      ]
     },
     "execution_count": 10,
     "metadata": {},
     "output_type": "execute_result"
    }
   ],
   "source": [
    "d_1 = np.var(selection_1, ddof=1)\n",
    "d_1"
   ]
  },
  {
   "cell_type": "code",
   "execution_count": 11,
   "id": "c4e893e5",
   "metadata": {},
   "outputs": [
    {
     "data": {
      "text/plain": [
       "60.10000000000001"
      ]
     },
     "execution_count": 11,
     "metadata": {},
     "output_type": "execute_result"
    }
   ],
   "source": [
    "d_2 = np.var(selection_2, ddof=1)\n",
    "d_2"
   ]
  },
  {
   "cell_type": "code",
   "execution_count": 12,
   "id": "7ecf075c",
   "metadata": {},
   "outputs": [
    {
     "data": {
      "text/plain": [
       "75.58333333333334"
      ]
     },
     "execution_count": 12,
     "metadata": {},
     "output_type": "execute_result"
    }
   ],
   "source": [
    "d = (d_1 + d_2) / 2\n",
    "d"
   ]
  },
  {
   "cell_type": "code",
   "execution_count": 13,
   "id": "e9f84d6f",
   "metadata": {},
   "outputs": [
    {
     "data": {
      "text/plain": [
       "3.8880157750022915"
      ]
     },
     "execution_count": 13,
     "metadata": {},
     "output_type": "execute_result"
    }
   ],
   "source": [
    "SE = np.sqrt(d / len(selection_1) + d / len(selection_2))\n",
    "SE"
   ]
  },
  {
   "cell_type": "code",
   "execution_count": 14,
   "id": "09f4f923",
   "metadata": {},
   "outputs": [
    {
     "data": {
      "text/plain": [
       "2.10092204024096"
      ]
     },
     "execution_count": 14,
     "metadata": {},
     "output_type": "execute_result"
    }
   ],
   "source": [
    "t = stats.t.ppf(0.975, len(selection_1) + len(selection_2) - 2)\n",
    "t"
   ]
  },
  {
   "cell_type": "code",
   "execution_count": 15,
   "id": "e0a46e47",
   "metadata": {},
   "outputs": [
    {
     "data": {
      "text/plain": [
       "-10.068418034506857"
      ]
     },
     "execution_count": 15,
     "metadata": {},
     "output_type": "execute_result"
    }
   ],
   "source": [
    "L = delta - t * SE\n",
    "L"
   ]
  },
  {
   "cell_type": "code",
   "execution_count": 16,
   "id": "cb4e6ed2",
   "metadata": {},
   "outputs": [
    {
     "data": {
      "text/plain": [
       "6.268418034506846"
      ]
     },
     "execution_count": 16,
     "metadata": {},
     "output_type": "execute_result"
    }
   ],
   "source": [
    "U = delta + t * SE\n",
    "U"
   ]
  },
  {
   "cell_type": "code",
   "execution_count": 17,
   "id": "74574b99",
   "metadata": {},
   "outputs": [
    {
     "data": {
      "text/plain": [
       "(-10.068418034506857, 6.268418034506846)"
      ]
     },
     "execution_count": 17,
     "metadata": {},
     "output_type": "execute_result"
    }
   ],
   "source": [
    "(L, U)"
   ]
  },
  {
   "cell_type": "code",
   "execution_count": null,
   "id": "b27ad142",
   "metadata": {},
   "outputs": [],
   "source": []
  }
 ],
 "metadata": {
  "kernelspec": {
   "display_name": "Python 3",
   "language": "python",
   "name": "python3"
  },
  "language_info": {
   "codemirror_mode": {
    "name": "ipython",
    "version": 3
   },
   "file_extension": ".py",
   "mimetype": "text/x-python",
   "name": "python",
   "nbconvert_exporter": "python",
   "pygments_lexer": "ipython3",
   "version": "3.8.8"
  }
 },
 "nbformat": 4,
 "nbformat_minor": 5
}
