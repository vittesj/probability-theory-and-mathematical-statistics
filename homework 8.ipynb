{
 "cells": [
  {
   "cell_type": "code",
   "execution_count": 11,
   "id": "85de645b",
   "metadata": {},
   "outputs": [],
   "source": [
    "import numpy as np\n",
    "import pandas as pd\n",
    "from statsmodels.stats.weightstats import _tconfint_generic as stat"
   ]
  },
  {
   "cell_type": "markdown",
   "id": "b98e3a9c",
   "metadata": {},
   "source": [
    "### Даны значения величины заработной платы заемщиков банка (zp) и значения их поведенческого кредитного скоринга (ks):\n",
    "- zp = [35, 45, 190, 200, 40, 70, 54, 150, 120, 110],\n",
    "- ks = [401, 574, 874, 919, 459, 739, 653, 902, 746, 832].\n",
    "### Найдите ковариацию этих двух величин с помощью элементарных действий, а затем с помощью функции cov из numpy\n",
    "### Полученные значения должны быть равны.\n",
    "### Найдите коэффициент корреляции Пирсона с помощью ковариации и среднеквадратичных отклонений двух признаков, а затем с использованием функций из библиотек numpy и pandas."
   ]
  },
  {
   "cell_type": "code",
   "execution_count": 12,
   "id": "002f6c0b",
   "metadata": {},
   "outputs": [],
   "source": [
    "zp = np.array([35, 45, 190, 200, 40, 70, 54, 150, 120, 110])\n",
    "ks = np.array([401, 574, 874, 919, 459, 739, 653, 902, 746, 832])"
   ]
  },
  {
   "cell_type": "code",
   "execution_count": 24,
   "id": "e6c5c203",
   "metadata": {},
   "outputs": [
    {
     "data": {
      "text/plain": [
       "101.4"
      ]
     },
     "execution_count": 24,
     "metadata": {},
     "output_type": "execute_result"
    }
   ],
   "source": [
    "zp_mean = np.mean(zp)\n",
    "zp_mean"
   ]
  },
  {
   "cell_type": "code",
   "execution_count": 25,
   "id": "3438799c",
   "metadata": {},
   "outputs": [
    {
     "data": {
      "text/plain": [
       "709.9"
      ]
     },
     "execution_count": 25,
     "metadata": {},
     "output_type": "execute_result"
    }
   ],
   "source": [
    "ks_mean = np.mean(ks)\n",
    "ks_mean"
   ]
  },
  {
   "cell_type": "code",
   "execution_count": 26,
   "id": "a7258a93",
   "metadata": {},
   "outputs": [
    {
     "data": {
      "text/plain": [
       "81141.7"
      ]
     },
     "execution_count": 26,
     "metadata": {},
     "output_type": "execute_result"
    }
   ],
   "source": [
    "M = np.mean(zp * ks)\n",
    "M"
   ]
  },
  {
   "cell_type": "code",
   "execution_count": 27,
   "id": "7175f9a9",
   "metadata": {},
   "outputs": [
    {
     "data": {
      "text/plain": [
       "9157.839999999997"
      ]
     },
     "execution_count": 27,
     "metadata": {},
     "output_type": "execute_result"
    }
   ],
   "source": [
    "covariation = M - zp_mean * ks_mean\n",
    "covariation"
   ]
  },
  {
   "cell_type": "code",
   "execution_count": 30,
   "id": "088ce5fb",
   "metadata": {},
   "outputs": [
    {
     "data": {
      "text/plain": [
       "array([[ 3494.64,  9157.84],\n",
       "       [ 9157.84, 30468.89]])"
      ]
     },
     "execution_count": 30,
     "metadata": {},
     "output_type": "execute_result"
    }
   ],
   "source": [
    "np.cov(zp, ks, ddof=0)"
   ]
  },
  {
   "cell_type": "code",
   "execution_count": 31,
   "id": "41a57e4c",
   "metadata": {},
   "outputs": [
    {
     "data": {
      "text/plain": [
       "0.8874900920739158"
      ]
     },
     "execution_count": 31,
     "metadata": {},
     "output_type": "execute_result"
    }
   ],
   "source": [
    "cor_pirs = covariation / (zp.std() * ks.std())\n",
    "cor_pirs"
   ]
  },
  {
   "cell_type": "code",
   "execution_count": 32,
   "id": "a09ef6e3",
   "metadata": {},
   "outputs": [
    {
     "data": {
      "text/plain": [
       "array([[1.        , 0.88749009],\n",
       "       [0.88749009, 1.        ]])"
      ]
     },
     "execution_count": 32,
     "metadata": {},
     "output_type": "execute_result"
    }
   ],
   "source": [
    "np.corrcoef(zp, ks)"
   ]
  },
  {
   "cell_type": "markdown",
   "id": "4ecd36e0",
   "metadata": {},
   "source": [
    "### Измерены значения IQ выборки студентов,\n",
    "### обучающихся в местных технических вузах:\n",
    "- 131, 125, 115, 122, 131, 115, 107, 99, 125, 111.\n",
    "### Известно, что в генеральной совокупности IQ распределен нормально.\n",
    "### Найдите доверительный интервал для математического ожидания с надежностью 0.95."
   ]
  },
  {
   "cell_type": "code",
   "execution_count": 13,
   "id": "1d86d1f4",
   "metadata": {},
   "outputs": [],
   "source": [
    "iq = np.array([131, 125, 115, 122, 131, 115, 107, 99, 125, 111])"
   ]
  },
  {
   "cell_type": "code",
   "execution_count": 14,
   "id": "b6f0ca23",
   "metadata": {},
   "outputs": [
    {
     "data": {
      "text/plain": [
       "118.1"
      ]
     },
     "execution_count": 14,
     "metadata": {},
     "output_type": "execute_result"
    }
   ],
   "source": [
    "iq_mean = np.mean(iq)\n",
    "iq_mean"
   ]
  },
  {
   "cell_type": "code",
   "execution_count": 15,
   "id": "140e0b38",
   "metadata": {},
   "outputs": [
    {
     "data": {
      "text/plain": [
       "10.54566788359614"
      ]
     },
     "execution_count": 15,
     "metadata": {},
     "output_type": "execute_result"
    }
   ],
   "source": [
    "iq_std = np.std(iq, ddof=1)\n",
    "iq_std"
   ]
  },
  {
   "cell_type": "code",
   "execution_count": 18,
   "id": "a91d981f",
   "metadata": {},
   "outputs": [
    {
     "data": {
      "text/plain": [
       "(110.55608365158724, 125.64391634841274)"
      ]
     },
     "execution_count": 18,
     "metadata": {},
     "output_type": "execute_result"
    }
   ],
   "source": [
    "stat(iq_mean, iq_std / len(iq) ** 0.5, len(iq) - 1, 1 - 0.95, 'two-sided')"
   ]
  },
  {
   "cell_type": "markdown",
   "id": "df6456db",
   "metadata": {},
   "source": [
    "### Известно, что рост футболистов в сборной распределен нормально с дисперсией генеральной совокупности, равной 25 кв.см. Объем выборки равен 27, среднее выборочное составляет 174.2. Найдите доверительный интервал для математического ожидания с надежностью 0.95."
   ]
  },
  {
   "cell_type": "code",
   "execution_count": 21,
   "id": "893d1027",
   "metadata": {},
   "outputs": [],
   "source": [
    "sigma = 5\n",
    "n = 27\n",
    "m = 174.2\n",
    "alpha = 0.05"
   ]
  },
  {
   "cell_type": "code",
   "execution_count": 22,
   "id": "48906eaf",
   "metadata": {},
   "outputs": [
    {
     "data": {
      "text/plain": [
       "(172.2220658754539, 176.17793412454608)"
      ]
     },
     "execution_count": 22,
     "metadata": {},
     "output_type": "execute_result"
    }
   ],
   "source": [
    "stat(m, sigma / n ** 0.5, n - 1, alpha, 'two-sided')"
   ]
  },
  {
   "cell_type": "code",
   "execution_count": null,
   "id": "e76fa0fa",
   "metadata": {},
   "outputs": [],
   "source": []
  }
 ],
 "metadata": {
  "kernelspec": {
   "display_name": "Python 3",
   "language": "python",
   "name": "python3"
  },
  "language_info": {
   "codemirror_mode": {
    "name": "ipython",
    "version": 3
   },
   "file_extension": ".py",
   "mimetype": "text/x-python",
   "name": "python",
   "nbconvert_exporter": "python",
   "pygments_lexer": "ipython3",
   "version": "3.8.8"
  }
 },
 "nbformat": 4,
 "nbformat_minor": 5
}
