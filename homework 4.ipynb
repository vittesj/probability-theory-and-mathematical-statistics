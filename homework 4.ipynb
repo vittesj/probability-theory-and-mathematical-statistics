{
 "cells": [
  {
   "cell_type": "code",
   "execution_count": 19,
   "id": "78463ef4",
   "metadata": {},
   "outputs": [],
   "source": [
    "from statistics import NormalDist"
   ]
  },
  {
   "cell_type": "markdown",
   "id": "dee29316",
   "metadata": {},
   "source": [
    "## Случайная непрерывная величина A имеет равномерное распределение на промежутке (200, 800]. Найдите ее среднее значение и дисперсию."
   ]
  },
  {
   "cell_type": "code",
   "execution_count": 8,
   "id": "f01dae5e",
   "metadata": {},
   "outputs": [
    {
     "data": {
      "text/plain": [
       "500.0"
      ]
     },
     "execution_count": 8,
     "metadata": {},
     "output_type": "execute_result"
    }
   ],
   "source": [
    "m_m = (200 + 800) / 2 \n",
    "m_m"
   ]
  },
  {
   "cell_type": "code",
   "execution_count": 10,
   "id": "8faf6b01",
   "metadata": {},
   "outputs": [
    {
     "data": {
      "text/plain": [
       "30000.0"
      ]
     },
     "execution_count": 10,
     "metadata": {},
     "output_type": "execute_result"
    }
   ],
   "source": [
    "m_d = (800-200) ** 2 / 12 \n",
    "m_d"
   ]
  },
  {
   "cell_type": "markdown",
   "id": "58cd475c",
   "metadata": {},
   "source": [
    "## 2) О случайной непрерывной равномерно распределенной величине B известно, что ее дисперсия равна 0.2. Можно ли найти правую границу величины B и ее среднее значение зная, что левая граница равна 0.5? Если да, найдите ее."
   ]
  },
  {
   "cell_type": "code",
   "execution_count": 13,
   "id": "a752661c",
   "metadata": {},
   "outputs": [
    {
     "data": {
      "text/plain": [
       "2.049193338482967"
      ]
     },
     "execution_count": 13,
     "metadata": {},
     "output_type": "execute_result"
    }
   ],
   "source": [
    "b = 0.5 + (12 * 0.2) ** 0.5 \n",
    "b"
   ]
  },
  {
   "cell_type": "code",
   "execution_count": 15,
   "id": "9b48105b",
   "metadata": {},
   "outputs": [
    {
     "data": {
      "text/plain": [
       "1.2745966692414834"
      ]
     },
     "execution_count": 15,
     "metadata": {},
     "output_type": "execute_result"
    }
   ],
   "source": [
    "m_m = (0.5 + b) / 2\n",
    "m_m"
   ]
  },
  {
   "cell_type": "markdown",
   "id": "3be970e1",
   "metadata": {},
   "source": [
    "## 3) Непрерывная случайная величина X распределена нормально и задана плотностью распределения\n",
    "\n",
    "f(x) = (1 / (4 * sqrt(2pi))) * exp((-(x+2)**2) / 32)\n",
    "\n",
    "Найдите:\n",
    "\n",
    "а). M(X)\n",
    "\n",
    "б). D(X)\n",
    "\n",
    "в). std(X) (среднее квадратичное отклонение)"
   ]
  },
  {
   "cell_type": "markdown",
   "id": "8eab350a",
   "metadata": {},
   "source": [
    "a) M(X) = a = -2\n",
    "\n",
    "б) D(X) = 16\n",
    "\n",
    "в) std(X) = 4"
   ]
  },
  {
   "cell_type": "markdown",
   "id": "0384d658",
   "metadata": {},
   "source": [
    "## 4) Рост взрослого населения города X имеет нормальное распределение.\n",
    "\n",
    "Причем, средний рост равен 174 см, а среднее квадратичное отклонение равно 8 см.\n",
    "\n",
    "Какова вероятность того, что случайным образом выбранный взрослый человек имеет рост:\n",
    "\n",
    "а). больше 182 см\n",
    "\n",
    "б). больше 190 см\n",
    "\n",
    "в). от 166 см до 190 см\n",
    "\n",
    "г). от 166 см до 182 см\n",
    "\n",
    "д). от 158 см до 190 см\n",
    "\n",
    "е). не выше 150 см или не ниже 190 см\n",
    "\n",
    "ё). не выше 150 см или не ниже 198 см\n",
    "\n",
    "ж). ниже 166 см."
   ]
  },
  {
   "cell_type": "code",
   "execution_count": 23,
   "id": "49f32c83",
   "metadata": {},
   "outputs": [],
   "source": [
    "def z_sigma(height):\n",
    "    return (height - 174) / 8"
   ]
  },
  {
   "cell_type": "code",
   "execution_count": 28,
   "id": "e0ca3034",
   "metadata": {},
   "outputs": [
    {
     "data": {
      "text/plain": [
       "'15.87%'"
      ]
     },
     "execution_count": 28,
     "metadata": {},
     "output_type": "execute_result"
    }
   ],
   "source": [
    "p = 1 - NormalDist().cdf(z_sigma(182))\n",
    "str(round(p * 100, 2)) + '%'"
   ]
  },
  {
   "cell_type": "code",
   "execution_count": 29,
   "id": "b3adec20",
   "metadata": {},
   "outputs": [
    {
     "data": {
      "text/plain": [
       "'2.28%'"
      ]
     },
     "execution_count": 29,
     "metadata": {},
     "output_type": "execute_result"
    }
   ],
   "source": [
    "p = 1 - NormalDist().cdf(z_sigma(190))\n",
    "str(round(p * 100, 2)) + '%'"
   ]
  },
  {
   "cell_type": "code",
   "execution_count": 30,
   "id": "08a1ca32",
   "metadata": {},
   "outputs": [
    {
     "data": {
      "text/plain": [
       "'81.86%'"
      ]
     },
     "execution_count": 30,
     "metadata": {},
     "output_type": "execute_result"
    }
   ],
   "source": [
    "p = NormalDist().cdf(z_sigma(190)) - NormalDist().cdf(z_sigma(166))\n",
    "str(round(p * 100, 2)) + '%'"
   ]
  },
  {
   "cell_type": "code",
   "execution_count": 31,
   "id": "2d999d29",
   "metadata": {},
   "outputs": [
    {
     "data": {
      "text/plain": [
       "'68.27%'"
      ]
     },
     "execution_count": 31,
     "metadata": {},
     "output_type": "execute_result"
    }
   ],
   "source": [
    "p = NormalDist().cdf(z_sigma(182)) - NormalDist().cdf(z_sigma(166))\n",
    "str(round(p * 100, 2)) + '%'"
   ]
  },
  {
   "cell_type": "code",
   "execution_count": 32,
   "id": "69b5c4dd",
   "metadata": {},
   "outputs": [
    {
     "data": {
      "text/plain": [
       "'95.45%'"
      ]
     },
     "execution_count": 32,
     "metadata": {},
     "output_type": "execute_result"
    }
   ],
   "source": [
    "p = NormalDist().cdf(z_sigma(190)) - NormalDist().cdf(z_sigma(158))\n",
    "str(round(p * 100, 2)) + '%'"
   ]
  },
  {
   "cell_type": "code",
   "execution_count": 34,
   "id": "432dc1af",
   "metadata": {},
   "outputs": [
    {
     "data": {
      "text/plain": [
       "'2.41%'"
      ]
     },
     "execution_count": 34,
     "metadata": {},
     "output_type": "execute_result"
    }
   ],
   "source": [
    "p = 1 - NormalDist().cdf(z_sigma(190)) + NormalDist().cdf(z_sigma(150))\n",
    "str(round(p * 100, 2)) + '%'"
   ]
  },
  {
   "cell_type": "code",
   "execution_count": 35,
   "id": "ad450620",
   "metadata": {},
   "outputs": [
    {
     "data": {
      "text/plain": [
       "'0.27%'"
      ]
     },
     "execution_count": 35,
     "metadata": {},
     "output_type": "execute_result"
    }
   ],
   "source": [
    "p = 1 - NormalDist().cdf(z_sigma(198)) + NormalDist().cdf(z_sigma(150))\n",
    "str(round(p * 100, 2)) + '%'"
   ]
  },
  {
   "cell_type": "code",
   "execution_count": null,
   "id": "cd6a685d",
   "metadata": {},
   "outputs": [],
   "source": []
  },
  {
   "cell_type": "markdown",
   "id": "ae5db71e",
   "metadata": {},
   "source": [
    "## 5) На сколько сигм (средних квадратичных отклонений) отклоняется рост человека, равный 190 см, от математического ожидания роста в популяции, в которой M(X) = 178 см и D(X) = 25 кв.см?"
   ]
  },
  {
   "cell_type": "code",
   "execution_count": 18,
   "id": "5d350122",
   "metadata": {},
   "outputs": [
    {
     "data": {
      "text/plain": [
       "2.4"
      ]
     },
     "execution_count": 18,
     "metadata": {},
     "output_type": "execute_result"
    }
   ],
   "source": [
    "sigma = (178 - 190) / 25 ** 0.5 * (-1) # домножил на -1 потому что спрашивают колличество сигм\n",
    "sigma "
   ]
  },
  {
   "cell_type": "code",
   "execution_count": null,
   "id": "ea70716c",
   "metadata": {},
   "outputs": [],
   "source": []
  }
 ],
 "metadata": {
  "kernelspec": {
   "display_name": "Python 3",
   "language": "python",
   "name": "python3"
  },
  "language_info": {
   "codemirror_mode": {
    "name": "ipython",
    "version": 3
   },
   "file_extension": ".py",
   "mimetype": "text/x-python",
   "name": "python",
   "nbconvert_exporter": "python",
   "pygments_lexer": "ipython3",
   "version": "3.8.8"
  }
 },
 "nbformat": 4,
 "nbformat_minor": 5
}
