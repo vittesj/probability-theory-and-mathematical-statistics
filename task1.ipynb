{
 "cells": [
  {
   "cell_type": "code",
   "execution_count": 20,
   "id": "c2f83a25",
   "metadata": {},
   "outputs": [],
   "source": [
    "import numpy as np"
   ]
  },
  {
   "cell_type": "markdown",
   "id": "18bb3dde",
   "metadata": {},
   "source": [
    "## Задача 1\n",
    "\n",
    "Имеется колода в 52 карты. Найти число возможностей вытянуть из неё 4 карты так, чтобы среди них был хотя бы один туз."
   ]
  },
  {
   "cell_type": "code",
   "execution_count": 21,
   "id": "b0c7c333",
   "metadata": {},
   "outputs": [],
   "source": [
    "from math import factorial\n",
    "\n",
    "def сombination (n, k):\n",
    "    return int(factorial(n) / (factorial(k) * factorial(n - k)))"
   ]
  },
  {
   "cell_type": "code",
   "execution_count": 22,
   "id": "1510448e",
   "metadata": {},
   "outputs": [
    {
     "name": "stdout",
     "output_type": "stream",
     "text": [
      "Общее число возможностей: 270725\n"
     ]
    }
   ],
   "source": [
    "n = сombination(52, 4)\n",
    "print(f'Общее число возможностей: {n}')"
   ]
  },
  {
   "cell_type": "markdown",
   "id": "9a26f4b3",
   "metadata": {},
   "source": [
    "## Задачи 2 и 3\n",
    "\n",
    "Из 60 вопросов, входящих в экзаменационные билеты, студент знает 50. Случайным образом студент вытягивает 3 вопроса. Какова вероятность, что все выбранные вопросы знакомы студенту? Какова вероятность что два из трёх вопросов знакомы студенту?"
   ]
  },
  {
   "cell_type": "code",
   "execution_count": 35,
   "id": "f6616016",
   "metadata": {},
   "outputs": [],
   "source": [
    "def combinations (n, k):\n",
    "    return np.math.factorial(n) / (np.math.factorial(k) * np.math.factorial(n - k))"
   ]
  },
  {
   "cell_type": "code",
   "execution_count": 36,
   "id": "cf2351d6",
   "metadata": {},
   "outputs": [],
   "source": [
    "n = combinations (60, 3)\n",
    "m = combinations (50, 3)"
   ]
  },
  {
   "cell_type": "code",
   "execution_count": 37,
   "id": "36fd08c2",
   "metadata": {},
   "outputs": [
    {
     "name": "stdout",
     "output_type": "stream",
     "text": [
      "Вероятность, что все выбранные вопросы знакомы студенту составляет: 0.5727644652250146\n"
     ]
    }
   ],
   "source": [
    "p = m / n\n",
    "print(f'Вероятность того, что все выбранные вопросы знакомы студенту составляет: {p}')"
   ]
  },
  {
   "cell_type": "code",
   "execution_count": 38,
   "id": "efd97765",
   "metadata": {},
   "outputs": [
    {
     "name": "stdout",
     "output_type": "stream",
     "text": [
      "Dероятность что два из трёх вопросов знакомы студенту составляет: 0.35797779076563413\n"
     ]
    }
   ],
   "source": [
    "a = combinations (50, 2)\n",
    "b = combinations (10, 1)\n",
    "c = combinations (60, 3)\n",
    "p = (a * b) / c\n",
    "print(f'Вероятность того, что два из трёх вопросов знакомы студенту составляет: {p}')"
   ]
  },
  {
   "cell_type": "markdown",
   "id": "43b58371",
   "metadata": {},
   "source": [
    "## Задача 4\n",
    "\n",
    "Допустим, имеется некоторая очень редкая болезнь (поражает 0.1% населения). Вы приходите к врачу, вам делают тест на эту болезнь, и тест оказывается положительным. Врач говорит вам, что этот тест верно выявляет 99% больных этой болезнью и всего лишь в 1% случаев даёт ложный положительный ответ.\n",
    "\n",
    "Вопрос: какова вероятность, что вы действительно больны ей?"
   ]
  },
  {
   "cell_type": "markdown",
   "id": "9d9e775c",
   "metadata": {},
   "source": [
    "для начала найдем полную вероятность этого события"
   ]
  },
  {
   "cell_type": "code",
   "execution_count": 40,
   "id": "19b82392",
   "metadata": {},
   "outputs": [
    {
     "name": "stdout",
     "output_type": "stream",
     "text": [
      "Вероятность того, что вы действительно больны составляет: 1e-05\n"
     ]
    }
   ],
   "source": [
    "P_A = (1 / 1000) * (1 / 100)\n",
    "print(f'Вероятность того, что вы действительно больны составляет: {P_A}' )"
   ]
  },
  {
   "cell_type": "code",
   "execution_count": null,
   "id": "2139e5dd",
   "metadata": {},
   "outputs": [],
   "source": []
  }
 ],
 "metadata": {
  "kernelspec": {
   "display_name": "Python 3",
   "language": "python",
   "name": "python3"
  },
  "language_info": {
   "codemirror_mode": {
    "name": "ipython",
    "version": 3
   },
   "file_extension": ".py",
   "mimetype": "text/x-python",
   "name": "python",
   "nbconvert_exporter": "python",
   "pygments_lexer": "ipython3",
   "version": "3.8.8"
  }
 },
 "nbformat": 4,
 "nbformat_minor": 5
}
