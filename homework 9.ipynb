{
 "cells": [
  {
   "cell_type": "code",
   "execution_count": 121,
   "id": "7d510ba1",
   "metadata": {},
   "outputs": [],
   "source": [
    "import numpy as np"
   ]
  },
  {
   "cell_type": "markdown",
   "id": "0ccce139",
   "metadata": {},
   "source": [
    "### Даны значения величины заработной платы заемщиков банка (zp) и значения их поведенческого кредитного скоринга (ks): zp = [35, 45, 190, 200, 40, 70, 54, 150, 120, 110], ks = [401, 574, 874, 919, 459, 739, 653, 902, 746, 832]. Используя математические операции, посчитать коэффициенты линейной регрессии, приняв за X заработную плату (то есть, zp - признак), а за y - значения скорингового балла (то есть, ks - целевая переменная). Произвести расчет как с использованием intercept, так и без."
   ]
  },
  {
   "cell_type": "code",
   "execution_count": 69,
   "id": "5c209a8f",
   "metadata": {},
   "outputs": [],
   "source": [
    "zp = np.array([35, 45, 190, 200, 40, 70, 54, 150, 120, 110])\n",
    "ks = np.array([401, 574, 874, 919, 459, 739, 653, 902, 746, 832])\n",
    "x = zp\n",
    "y = ks\n",
    "n = 10"
   ]
  },
  {
   "cell_type": "code",
   "execution_count": 70,
   "id": "006f160d",
   "metadata": {},
   "outputs": [
    {
     "data": {
      "text/plain": [
       "2.6205388824027653"
      ]
     },
     "execution_count": 70,
     "metadata": {},
     "output_type": "execute_result"
    }
   ],
   "source": [
    "B1 = (n*np.sum(x * y) - np.sum(x) * np.sum(y)) / (n * np.sum(x ** 2) - np.sum(x) ** 2)\n",
    "B1"
   ]
  },
  {
   "cell_type": "code",
   "execution_count": 71,
   "id": "e86ce1fb",
   "metadata": {},
   "outputs": [
    {
     "data": {
      "text/plain": [
       "444.17735732435955"
      ]
     },
     "execution_count": 71,
     "metadata": {},
     "output_type": "execute_result"
    }
   ],
   "source": [
    "B0 = np.mean(y) - B1 * np.mean(x)\n",
    "B0"
   ]
  },
  {
   "cell_type": "code",
   "execution_count": 80,
   "id": "90e1406a",
   "metadata": {},
   "outputs": [
    {
     "data": {
      "text/plain": [
       "array([[ 35],\n",
       "       [ 45],\n",
       "       [190],\n",
       "       [200],\n",
       "       [ 40],\n",
       "       [ 70],\n",
       "       [ 54],\n",
       "       [150],\n",
       "       [120],\n",
       "       [110]])"
      ]
     },
     "execution_count": 80,
     "metadata": {},
     "output_type": "execute_result"
    }
   ],
   "source": [
    "X = x.reshape(n, 1)\n",
    "X"
   ]
  },
  {
   "cell_type": "code",
   "execution_count": 81,
   "id": "5dd54dfb",
   "metadata": {},
   "outputs": [
    {
     "data": {
      "text/plain": [
       "array([[401],\n",
       "       [574],\n",
       "       [874],\n",
       "       [919],\n",
       "       [459],\n",
       "       [739],\n",
       "       [653],\n",
       "       [902],\n",
       "       [746],\n",
       "       [832]])"
      ]
     },
     "execution_count": 81,
     "metadata": {},
     "output_type": "execute_result"
    }
   ],
   "source": [
    "y1 = y.reshape(n, 1)\n",
    "y1"
   ]
  },
  {
   "cell_type": "code",
   "execution_count": 82,
   "id": "012c7a0d",
   "metadata": {},
   "outputs": [
    {
     "data": {
      "text/plain": [
       "array([5.88982042])"
      ]
     },
     "execution_count": 82,
     "metadata": {},
     "output_type": "execute_result"
    }
   ],
   "source": [
    "B1 = np.dot(np.linalg.inv(np.dot(X.T, X)), X.T @ y)\n",
    "B1"
   ]
  },
  {
   "cell_type": "markdown",
   "id": "62c10667",
   "metadata": {},
   "source": [
    "### Посчитать коэффициент линейной регрессии при заработной плате (zp), используя градиентный спуск (без intercept)."
   ]
  },
  {
   "cell_type": "code",
   "execution_count": 60,
   "id": "17c9c229",
   "metadata": {},
   "outputs": [],
   "source": [
    "def mse_(B1, x, y, n=10):\n",
    "    return np.sum((B1 * x - y) ** 2) / n"
   ]
  },
  {
   "cell_type": "code",
   "execution_count": 61,
   "id": "83a4b3a1",
   "metadata": {},
   "outputs": [],
   "source": [
    "x = zp\n",
    "y = ks\n",
    "alpha = 1e-6\n",
    "B1 = 0.1\n",
    "n = 10"
   ]
  },
  {
   "cell_type": "code",
   "execution_count": 62,
   "id": "e5dc4db2",
   "metadata": {},
   "outputs": [
    {
     "name": "stdout",
     "output_type": "stream",
     "text": [
      "Internation = 0, B1 = 0.25952808, mse = 493237.7212546963\n",
      "Internation = 50, B1 = 4.497229618367758, mse = 83233.94472982832\n",
      "Internation = 100, B1 = 5.54537842245223, mse = 58151.31823171113\n",
      "Internation = 150, B1 = 5.804626485478126, mse = 56616.849068093856\n",
      "Internation = 200, B1 = 5.868748638669329, mse = 56522.97550129376\n",
      "Internation = 250, B1 = 5.884608547059329, mse = 56517.232638059555\n",
      "Internation = 300, B1 = 5.888531320728348, mse = 56516.88130936019\n",
      "Internation = 350, B1 = 5.889501575592372, mse = 56516.85981627392\n",
      "Internation = 400, B1 = 5.8897415574471985, mse = 56516.85850140053\n",
      "Internation = 450, B1 = 5.889800914315978, mse = 56516.858420961085\n",
      "Internation = 500, B1 = 5.889815595583751, mse = 56516.858416040064\n"
     ]
    }
   ],
   "source": [
    "for i in range(501):\n",
    "    B1 -= alpha * (2 / n) * np.sum((B1 * x - y) * x)\n",
    "    if i % 50 == 0:\n",
    "        print('Internation = {i}, B1 = {B1}, mse = {mse}'.format(i=i, B1=B1, mse=mse_(B1, x, y)))"
   ]
  },
  {
   "cell_type": "code",
   "execution_count": 55,
   "id": "3c00129b",
   "metadata": {},
   "outputs": [
    {
     "data": {
      "text/plain": [
       "array([ 206.1437147 ,  265.04191891, 1119.06587982, 1177.96408403,\n",
       "        235.59281681,  412.28742941,  318.05030269,  883.47306302,\n",
       "        706.77845042,  647.88024621])"
      ]
     },
     "execution_count": 55,
     "metadata": {},
     "output_type": "execute_result"
    }
   ],
   "source": [
    "y_pred2 = B1 * zp\n",
    "y_pred2"
   ]
  },
  {
   "cell_type": "markdown",
   "id": "66f0dea4",
   "metadata": {},
   "source": [
    "### Произвести вычисления как в пункте 2, но с вычислением intercept. Учесть, что изменение коэффициентов должно производиться на каждом шаге одновременно (то есть изменение одного коэффициента не должно влиять на изменение другого во время одной итерации)."
   ]
  },
  {
   "cell_type": "code",
   "execution_count": 122,
   "id": "5a8213b6",
   "metadata": {},
   "outputs": [],
   "source": [
    "def mse_(B0, B1, x, y, n=10):\n",
    "    return np.sum((B0 + B1 * x - y) ** 2) / n"
   ]
  },
  {
   "cell_type": "code",
   "execution_count": 131,
   "id": "c94ca321",
   "metadata": {},
   "outputs": [],
   "source": [
    "x = zp\n",
    "y = ks\n",
    "alpha = 3e-5\n",
    "B0 = 0.1\n",
    "B1 = 0.1\n",
    "n = 10"
   ]
  },
  {
   "cell_type": "code",
   "execution_count": null,
   "id": "039d38e5",
   "metadata": {},
   "outputs": [],
   "source": [
    "for i in range(1000001):\n",
    "    y_pred3 = B0 + B1 * x\n",
    "    B0 -= alpha * (2 / n) * np.sum((y_pred3 - y))\n",
    "    B1 -= alpha * (2 / n) * np.sum((y_pred3 - y) * x)\n",
    "    if i % 100000 == 0:\n",
    "        print('Internation = {i}, B0 = {B0}, B1 = {B1}, mse = {mse}'.format(i=i, B0 = B0, B1=B1, mse=mse_(B0, B1, x, y)))"
   ]
  },
  {
   "cell_type": "code",
   "execution_count": null,
   "id": "ed73d8b7",
   "metadata": {},
   "outputs": [],
   "source": []
  }
 ],
 "metadata": {
  "kernelspec": {
   "display_name": "Python 3",
   "language": "python",
   "name": "python3"
  },
  "language_info": {
   "codemirror_mode": {
    "name": "ipython",
    "version": 3
   },
   "file_extension": ".py",
   "mimetype": "text/x-python",
   "name": "python",
   "nbconvert_exporter": "python",
   "pygments_lexer": "ipython3",
   "version": "3.8.8"
  }
 },
 "nbformat": 4,
 "nbformat_minor": 5
}
