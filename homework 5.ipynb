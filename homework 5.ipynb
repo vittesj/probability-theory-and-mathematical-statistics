{
 "cells": [
  {
   "cell_type": "code",
   "execution_count": 1,
   "id": "70902b65",
   "metadata": {},
   "outputs": [],
   "source": [
    "import numpy as np\n",
    "from scipy import stats"
   ]
  },
  {
   "cell_type": "markdown",
   "id": "4001d463",
   "metadata": {},
   "source": [
    "## 1) Когда используется критерий Стьюдента, а когда Z –критерий?"
   ]
  },
  {
   "cell_type": "markdown",
   "id": "90bd07a0",
   "metadata": {},
   "source": [
    "Z критерий используется когда нам известна сигма и нужно найти разницу между средними значениями двух выборок, критерий Стьюденрта используется когда нам не известна сигма и нужно определить насколько велика разница средних значений"
   ]
  },
  {
   "cell_type": "markdown",
   "id": "2b8d8dbe",
   "metadata": {},
   "source": [
    "## 2) Проведите тест гипотезы. Утверждается, что шарики для подшипников, изготовленные автоматическим станком, имеют средний диаметр 17 мм. Используя односторонний критерий с α=0,05, проверить эту гипотезу, если в выборке из n=100 шариков средний диаметр оказался равным 17.5 мм, а дисперсия известна и равна 4 кв. мм."
   ]
  },
  {
   "cell_type": "code",
   "execution_count": 2,
   "id": "881ab078",
   "metadata": {},
   "outputs": [
    {
     "data": {
      "text/plain": [
       "2.5"
      ]
     },
     "execution_count": 2,
     "metadata": {},
     "output_type": "execute_result"
    }
   ],
   "source": [
    "z = (17.5 - 17) / (4 ** 0.5 / 100 ** 0.5)\n",
    "z"
   ]
  },
  {
   "cell_type": "markdown",
   "id": "d98385e8",
   "metadata": {},
   "source": [
    "найдем табличное значение z для критерия α=0,05; по таблице следует значение 1.6, так как найденное значение больше табличного, мы отвергаем нулевую гипотезу"
   ]
  },
  {
   "cell_type": "markdown",
   "id": "3ca0db11",
   "metadata": {},
   "source": [
    "## 3) Проведите тест гипотезы. Продавец утверждает, что средний вес пачки печенья составляет 200 г. Из партии извлечена выборка из 10 пачек. Вес каждой пачки составляет: 202, 203, 199, 197, 195, 201, 200, 204, 194, 190. Известно, что их веса распределены нормально. Верно ли утверждение продавца, если учитывать, что доверительная вероятность равна 99%? (Провести двусторонний тест.)"
   ]
  },
  {
   "cell_type": "code",
   "execution_count": 3,
   "id": "8ea6615f",
   "metadata": {},
   "outputs": [],
   "source": [
    "selection = np.array([202, 203, 199, 197, 195, 201, 200, 204, 194, 190])"
   ]
  },
  {
   "cell_type": "code",
   "execution_count": 4,
   "id": "0fc02240",
   "metadata": {},
   "outputs": [
    {
     "data": {
      "text/plain": [
       "-1.0651074037450896"
      ]
     },
     "execution_count": 4,
     "metadata": {},
     "output_type": "execute_result"
    }
   ],
   "source": [
    "t = (np.mean(selection) - 200) / (np.std(selection, ddof=1) / len(selection) ** 0.5)\n",
    "t"
   ]
  },
  {
   "cell_type": "markdown",
   "id": "5c474393",
   "metadata": {},
   "source": [
    "Найдем табличное значение критерия Стьюдента при α=0,005; по таблице следует значение 3,2498355, наше t по модулю меньше табличного значения поэтому нулевая гипотеза принимается."
   ]
  },
  {
   "cell_type": "markdown",
   "id": "4154177d",
   "metadata": {},
   "source": [
    "## 4) Есть ли статистически значимые различия в росте дочерей? Рост матерей 172, 177, 158, 170, 178,175, 164, 160, 169 Рост взрослых дочерей: 173, 175, 162, 174, 175, 168, 155, 170, 160"
   ]
  },
  {
   "cell_type": "code",
   "execution_count": 5,
   "id": "aeec222b",
   "metadata": {},
   "outputs": [],
   "source": [
    "selection_1 = np.array([172, 177, 158, 170, 178, 175, 164, 160, 169])\n",
    "selection_2 = np.array([173, 175, 162, 174, 175, 168, 155, 170, 160])"
   ]
  },
  {
   "cell_type": "code",
   "execution_count": 6,
   "id": "310a8829",
   "metadata": {},
   "outputs": [
    {
     "data": {
      "text/plain": [
       "Ttest_indResult(statistic=0.35581195161541973, pvalue=0.7266292679160495)"
      ]
     },
     "execution_count": 6,
     "metadata": {},
     "output_type": "execute_result"
    }
   ],
   "source": [
    "stats.ttest_ind(selection_1, selection_2)"
   ]
  },
  {
   "cell_type": "code",
   "execution_count": 7,
   "id": "7e3f93ca",
   "metadata": {},
   "outputs": [
    {
     "data": {
      "text/plain": [
       "Ttest_relResult(statistic=0.559522990335608, pvalue=0.5911212354055175)"
      ]
     },
     "execution_count": 7,
     "metadata": {},
     "output_type": "execute_result"
    }
   ],
   "source": [
    "stats.ttest_rel(selection_1, selection_2)"
   ]
  },
  {
   "cell_type": "markdown",
   "id": "9a77a332",
   "metadata": {},
   "source": [
    "что так, что так, ответ одинаковый, берем нулевую гипотезу и делаем вывод что значимых различий нет, так как pvalue > alpha = 0.05, но я не понял когда и какую функцию мы используем?"
   ]
  }
 ],
 "metadata": {
  "kernelspec": {
   "display_name": "Python 3",
   "language": "python",
   "name": "python3"
  },
  "language_info": {
   "codemirror_mode": {
    "name": "ipython",
    "version": 3
   },
   "file_extension": ".py",
   "mimetype": "text/x-python",
   "name": "python",
   "nbconvert_exporter": "python",
   "pygments_lexer": "ipython3",
   "version": "3.8.8"
  }
 },
 "nbformat": 4,
 "nbformat_minor": 5
}
