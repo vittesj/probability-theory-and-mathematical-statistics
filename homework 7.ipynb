{
 "cells": [
  {
   "cell_type": "code",
   "execution_count": 10,
   "id": "4eebcd62",
   "metadata": {},
   "outputs": [],
   "source": [
    "import numpy as np\n",
    "import scipy.stats as stats"
   ]
  },
  {
   "cell_type": "markdown",
   "id": "8b53f7ac",
   "metadata": {},
   "source": [
    "### Выбрать тест и проверить, есть  ли различия между выборками:\n",
    "- 1 )  Даны две  независимые выборки. Не соблюдается условие нормальности\n",
    "- x1  380,420, 290\n",
    "- y1 140,360,200,900\n",
    "### Сделайте вывод по результатам, полученным с помощью функции"
   ]
  },
  {
   "cell_type": "code",
   "execution_count": 11,
   "id": "956608ac",
   "metadata": {},
   "outputs": [],
   "source": [
    "selection_x1 = np.array([380,420, 290])\n",
    "selection_y1 = np.array([140,360,200,900])"
   ]
  },
  {
   "cell_type": "code",
   "execution_count": 12,
   "id": "4edd6e6a",
   "metadata": {},
   "outputs": [
    {
     "data": {
      "text/plain": [
       "MannwhitneyuResult(statistic=4.0, pvalue=0.29794154528258887)"
      ]
     },
     "execution_count": 12,
     "metadata": {},
     "output_type": "execute_result"
    }
   ],
   "source": [
    "stats.mannwhitneyu(selection_x1, selection_y1)"
   ]
  },
  {
   "cell_type": "markdown",
   "id": "da0121e4",
   "metadata": {},
   "source": [
    "так как pvalue=0.29, мы принимаем нулевую гипотезу, результат, различий нет"
   ]
  },
  {
   "cell_type": "markdown",
   "id": "c5e09e7e",
   "metadata": {},
   "source": [
    "### Исследовалось влияние препарата на уровень давления пациентов. Сначала измерялось давление до приема препарата, потом через 10 минут и через 30 минут. Есть ли статистически значимые различия?\n",
    "- 1е измерение до приема препарата: 150, 160, 165, 145, 155\n",
    "- 2е измерение через 10 минут: 140, 155, 150,  130, 135\n",
    "- 3е измерение через 30 минут: 130, 130, 120, 130, 125"
   ]
  },
  {
   "cell_type": "code",
   "execution_count": 16,
   "id": "958d4654",
   "metadata": {},
   "outputs": [],
   "source": [
    "selection_1 = np.array([150, 160, 165, 145, 155])\n",
    "selection_2 = np.array([140, 155, 150, 130, 135])\n",
    "selection_3 = np.array([130, 130, 120, 130, 125])"
   ]
  },
  {
   "cell_type": "code",
   "execution_count": 17,
   "id": "6ca82a87",
   "metadata": {},
   "outputs": [
    {
     "data": {
      "text/plain": [
       "FriedmanchisquareResult(statistic=9.578947368421062, pvalue=0.00831683351100441)"
      ]
     },
     "execution_count": 17,
     "metadata": {},
     "output_type": "execute_result"
    }
   ],
   "source": [
    "stats.friedmanchisquare(selection_1, selection_2, selection_3)"
   ]
  },
  {
   "cell_type": "markdown",
   "id": "75e6ebc8",
   "metadata": {},
   "source": [
    "так как pvalue=0.008, мы не принимаем нулевую гипотезу, так как значение ниже alpha=0.05, различия есть, препарат работает"
   ]
  },
  {
   "cell_type": "markdown",
   "id": "20ee1adb",
   "metadata": {},
   "source": [
    "### Сравните 1 и 2 е измерения, предполагая, что 3го измерения через 30 минут не было."
   ]
  },
  {
   "cell_type": "code",
   "execution_count": 18,
   "id": "95fa48d4",
   "metadata": {},
   "outputs": [
    {
     "data": {
      "text/plain": [
       "WilcoxonResult(statistic=0.0, pvalue=0.0625)"
      ]
     },
     "execution_count": 18,
     "metadata": {},
     "output_type": "execute_result"
    }
   ],
   "source": [
    "stats.wilcoxon(selection_1, selection_2)"
   ]
  },
  {
   "cell_type": "markdown",
   "id": "ae7fb4b0",
   "metadata": {},
   "source": [
    "pvalue=0.0625, изменения не значительны, применяем нулевую гипотезу, препарат не работает"
   ]
  },
  {
   "cell_type": "markdown",
   "id": "349ee896",
   "metadata": {},
   "source": [
    "### Даны 3 группы  учеников плавания.\n",
    "### В 1 группе время на дистанцию 50 м составляют:\n",
    "- 56, 60, 62, 55, 71, 67, 59, 58, 64, 67\n",
    "- Вторая группа : 57, 58, 69, 48, 72, 70, 68, 71, 50, 53\n",
    "- Третья группа: 57, 67, 49, 48, 47, 55, 66, 51, 54"
   ]
  },
  {
   "cell_type": "code",
   "execution_count": 19,
   "id": "cb1afa46",
   "metadata": {},
   "outputs": [],
   "source": [
    "selection_1 = np.array([56, 60, 62, 55, 71, 67, 59, 58, 64, 67])\n",
    "selection_2 = np.array([57, 58, 69, 48, 72, 70, 68, 71, 50, 53])\n",
    "selection_3 = np.array([57, 67, 49, 48, 47, 55, 66, 51, 54])"
   ]
  },
  {
   "cell_type": "code",
   "execution_count": 20,
   "id": "c71ce2ad",
   "metadata": {},
   "outputs": [
    {
     "data": {
      "text/plain": [
       "KruskalResult(statistic=5.465564058257224, pvalue=0.0650380998590494)"
      ]
     },
     "execution_count": 20,
     "metadata": {},
     "output_type": "execute_result"
    }
   ],
   "source": [
    "stats.kruskal(selection_1, selection_2, selection_3)"
   ]
  },
  {
   "cell_type": "markdown",
   "id": "e0f52a39",
   "metadata": {},
   "source": [
    "pvalue=0.065, изменения не значительны, применяем нулевую гипотезу, различий нет"
   ]
  },
  {
   "cell_type": "markdown",
   "id": "51ad1199",
   "metadata": {},
   "source": [
    "### Заявляется, что партия изготавливается со средним арифметическим 2,5 см. Проверить данную гипотезу, если известно, что размеры изделий подчинены нормальному закону распределения. Объем выборки 10, уровень статистической значимости 5%\n",
    "### 2.51, 2.35, 2.74, 2.56, 2.40, 2.36, 2.65, 2.7, 2.67, 2.34"
   ]
  },
  {
   "cell_type": "code",
   "execution_count": 23,
   "id": "658b2cd9",
   "metadata": {},
   "outputs": [],
   "source": [
    "party = np.array([2.51, 2.35, 2.74, 2.56, 2.40, 2.36, 2.65, 2.7, 2.67, 2.34])\n",
    "mean = 2.5\n",
    "alpha = 0.05"
   ]
  },
  {
   "cell_type": "code",
   "execution_count": 24,
   "id": "34c36364",
   "metadata": {},
   "outputs": [
    {
     "data": {
      "text/plain": [
       "2.5279999999999996"
      ]
     },
     "execution_count": 24,
     "metadata": {},
     "output_type": "execute_result"
    }
   ],
   "source": [
    "np.mean(party)"
   ]
  },
  {
   "cell_type": "code",
   "execution_count": 25,
   "id": "c0a495c3",
   "metadata": {},
   "outputs": [
    {
     "data": {
      "text/plain": [
       "0.5630613661802959"
      ]
     },
     "execution_count": 25,
     "metadata": {},
     "output_type": "execute_result"
    }
   ],
   "source": [
    "t = (np.mean(party) - mean) / (np.std(party, ddof=1) / len(party) ** 0.5)\n",
    "t"
   ]
  },
  {
   "cell_type": "markdown",
   "id": "61c07836",
   "metadata": {},
   "source": [
    "по таблице распределения Стьюдента значение t при уровне значимости alpha = 0.05 и колличеством степеней свободы равным 9, мы имеем значение t=2.26 что"
   ]
  }
 ],
 "metadata": {
  "kernelspec": {
   "display_name": "Python 3",
   "language": "python",
   "name": "python3"
  },
  "language_info": {
   "codemirror_mode": {
    "name": "ipython",
    "version": 3
   },
   "file_extension": ".py",
   "mimetype": "text/x-python",
   "name": "python",
   "nbconvert_exporter": "python",
   "pygments_lexer": "ipython3",
   "version": "3.8.8"
  }
 },
 "nbformat": 4,
 "nbformat_minor": 5
}
